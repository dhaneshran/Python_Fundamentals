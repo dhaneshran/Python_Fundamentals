{
 "cells": [
  {
   "cell_type": "code",
   "execution_count": 1,
   "metadata": {},
   "outputs": [
    {
     "name": "stdout",
     "output_type": "stream",
     "text": [
      "['computer', 'camera', 'watch', 'mobile', 'shoes']\n"
     ]
    }
   ],
   "source": [
    "wishlist = ['computer','camera','watch','mobile','shoes']\n",
    "print(wishlist)"
   ]
  },
  {
   "cell_type": "code",
   "execution_count": 3,
   "metadata": {},
   "outputs": [
    {
     "name": "stdout",
     "output_type": "stream",
     "text": [
      "I want mobile\n"
     ]
    }
   ],
   "source": [
    "print(f\"I want {wishlist[3]}\")"
   ]
  },
  {
   "cell_type": "code",
   "execution_count": 10,
   "metadata": {},
   "outputs": [
    {
     "name": "stdout",
     "output_type": "stream",
     "text": [
      "computer\n",
      "camera\n",
      "watch\n",
      "mobile\n",
      "shoes\n"
     ]
    }
   ],
   "source": [
    "for wishlistItem in wishlist:\n",
    "    print(wishlistItem) #indentation"
   ]
  },
  {
   "cell_type": "code",
   "execution_count": 7,
   "metadata": {},
   "outputs": [
    {
     "name": "stdout",
     "output_type": "stream",
     "text": [
      "I want computer\n",
      "I want camera\n",
      "I want watch\n",
      "I want mobile\n",
      "I want shoes\n"
     ]
    }
   ],
   "source": [
    "for wishlistItem in wishlist:\n",
    "    print(f\"I want {wishlistItem}\")"
   ]
  },
  {
   "cell_type": "code",
   "execution_count": 9,
   "metadata": {},
   "outputs": [
    {
     "name": "stdout",
     "output_type": "stream",
     "text": [
      "I want computer\n",
      "computer added to cart.\n",
      "\n",
      "I want camera\n",
      "camera added to cart.\n",
      "\n",
      "I want watch\n",
      "watch added to cart.\n",
      "\n",
      "I want mobile\n",
      "mobile added to cart.\n",
      "\n",
      "I want shoes\n",
      "shoes added to cart.\n",
      "\n"
     ]
    }
   ],
   "source": [
    "for wishlistItem in wishlist:\n",
    "    print(f\"I want {wishlistItem}\")\n",
    "    print(f\"{wishlistItem} added to cart.\\n\")"
   ]
  },
  {
   "cell_type": "code",
   "execution_count": 11,
   "metadata": {},
   "outputs": [
    {
     "name": "stdout",
     "output_type": "stream",
     "text": [
      "I want computer\n",
      "computer added to cart.\n",
      "\n",
      "I want camera\n",
      "camera added to cart.\n",
      "\n",
      "I want watch\n",
      "watch added to cart.\n",
      "\n",
      "I want mobile\n",
      "mobile added to cart.\n",
      "\n",
      "I want shoes\n",
      "shoes added to cart.\n",
      "\n",
      "Thank you all to showing interest in e-cart\n"
     ]
    }
   ],
   "source": [
    "for wishlistItem in wishlist:\n",
    "    print(f\"I want {wishlistItem}\")\n",
    "    print(f\"{wishlistItem} added to cart.\\n\")\n",
    "    \n",
    "print(\"Thank you all to showing interest in e-cart\")"
   ]
  }
 ],
 "metadata": {
  "kernelspec": {
   "display_name": "Python 3",
   "language": "python",
   "name": "python3"
  },
  "language_info": {
   "codemirror_mode": {
    "name": "ipython",
    "version": 3
   },
   "file_extension": ".py",
   "mimetype": "text/x-python",
   "name": "python",
   "nbconvert_exporter": "python",
   "pygments_lexer": "ipython3",
   "version": "3.7.7"
  }
 },
 "nbformat": 4,
 "nbformat_minor": 4
}
